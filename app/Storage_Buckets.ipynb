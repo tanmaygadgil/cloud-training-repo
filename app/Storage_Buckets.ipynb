{
 "cells": [
  {
   "cell_type": "code",
   "execution_count": null,
   "metadata": {},
   "outputs": [],
   "source": [
    "import os\n",
    "from google.cloud import storage"
   ]
  },
  {
   "cell_type": "markdown",
   "metadata": {},
   "source": [
    "### Check out a sample storage bucket [here](https://console.cloud.google.com/storage/browser/boston-housing-data)\n",
    "\n",
    "### Check out the GCP Documentation [here](https://cloud.google.com/storage/docs/how-to)"
   ]
  },
  {
   "cell_type": "markdown",
   "metadata": {},
   "source": [
    "## Authenticating the Storage API Client"
   ]
  },
  {
   "cell_type": "code",
   "execution_count": null,
   "metadata": {},
   "outputs": [],
   "source": [
    "#Note: Here there is no need to pass a json key for authentication\n",
    "#While accessing from local system, a service account json key is required\n",
    "storage_client = storage.Client()"
   ]
  },
  {
   "cell_type": "markdown",
   "metadata": {},
   "source": [
    "### Listing all the files/objects inside a storage bucket"
   ]
  },
  {
   "cell_type": "code",
   "execution_count": null,
   "metadata": {},
   "outputs": [],
   "source": [
    "bucket_name = \"boston-housing-data\" #\"your-bucket-name\"\n",
    "bucket = storage_client.bucket(bucket_name)"
   ]
  },
  {
   "cell_type": "code",
   "execution_count": null,
   "metadata": {},
   "outputs": [],
   "source": [
    "#Listing all the files inside the storage bucket\n",
    "bucket_contents = bucket.list_blobs()\n",
    "for b in bucket_contents:\n",
    "    print(b.name)"
   ]
  },
  {
   "cell_type": "markdown",
   "metadata": {},
   "source": [
    "## Creating a storage bucket"
   ]
  },
  {
   "cell_type": "code",
   "execution_count": null,
   "metadata": {},
   "outputs": [],
   "source": [
    "bucket_name = \"<enter_name_for_bucket>\" #\"your-bucket-name\"\n",
    "bucket = storage_client.bucket(bucket_name)\n",
    "bucket.storage_class = \"STANDARD\"\n",
    "new_bucket = storage_client.create_bucket(bucket, location=\"us\")\n",
    "\n",
    "print(\"Created bucket {} in {} with storage class {}\".format\\\n",
    "      (new_bucket.name, new_bucket.location, new_bucket.storage_class))\n"
   ]
  },
  {
   "cell_type": "markdown",
   "metadata": {},
   "source": [
    "## Uploading files to the storage bucket"
   ]
  },
  {
   "cell_type": "code",
   "execution_count": null,
   "metadata": {},
   "outputs": [],
   "source": [
    "print(\"Current working directory:\",os.getcwd())"
   ]
  },
  {
   "cell_type": "code",
   "execution_count": null,
   "metadata": {},
   "outputs": [],
   "source": [
    "# bucket_name = \"your-bucket-name\"\n",
    "# source_file_name = \"local/path/to/file\"\n",
    "# destination_blob_name = \"storage-object-name\"\n",
    "destination_blob_name = \"xgb_regressor.json\"\n",
    "bucket = storage_client.bucket(bucket_name)\n",
    "blob = bucket.blob(destination_blob_name)\n",
    "source_file_name = os.path.join(os.getcwd(), 'models/xgb_regressor.json' )\n",
    "blob.upload_from_filename(source_file_name)\n",
    "\n",
    "print(\n",
    "    \"File {} uploaded to {}.\".format(\n",
    "        source_file_name, destination_blob_name\n",
    "    )\n",
    ")"
   ]
  },
  {
   "cell_type": "markdown",
   "metadata": {},
   "source": [
    "## Downloading files from the storage bucket"
   ]
  },
  {
   "cell_type": "code",
   "execution_count": null,
   "metadata": {},
   "outputs": [],
   "source": [
    "bucket_contents = bucket.list_blobs()\n",
    "for b in bucket_contents:\n",
    "    print('Downloading:', b.name)\n",
    "## Uploading files to the storage bucket    source_blob_name = b.name\n",
    "    blob = bucket.blob(b.name) #\"storage-object-name\"\n",
    "    \n",
    "    #Creating destination folder, \n",
    "    destination_folder = os.makedirs(os.path.join(os.getcwd(), 'test_download'), exist_ok=True)\n",
    "    \n",
    "    #Creating path to save the file\n",
    "    destination_file_name = os.path.join(os.getcwd(), 'test_download', b.name)\n",
    "    blob.download_to_filename(destination_file_name)"
   ]
  }
 ],
 "metadata": {
  "kernelspec": {
   "display_name": "Python 3",
   "language": "python",
   "name": "python3"
  },
  "language_info": {
   "codemirror_mode": {
    "name": "ipython",
    "version": 3
   },
   "file_extension": ".py",
   "mimetype": "text/x-python",
   "name": "python",
   "nbconvert_exporter": "python",
   "pygments_lexer": "ipython3",
   "version": "3.8.3"
  }
 },
 "nbformat": 4,
 "nbformat_minor": 4
}
